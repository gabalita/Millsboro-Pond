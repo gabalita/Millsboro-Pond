{
 "cells": [
  {
   "cell_type": "code",
   "execution_count": 3,
   "metadata": {
    "collapsed": true
   },
   "outputs": [],
   "source": [
    "import pandas as pd\n",
    "import matplotlib.pyplot as plt\n",
    "import numpy as np\n",
    "\n",
    "pd.set_option('display.mpl_style','default')\n",
    "import sys\n",
    "\n",
    "# this is the standard import if you're using \"formula notation\" (similar to R)\n",
    "import statsmodels.formula.api as smf\n",
    "\n",
    "%matplotlib inline"
   ]
  },
  {
   "cell_type": "code",
   "execution_count": 4,
   "metadata": {
    "collapsed": false
   },
   "outputs": [],
   "source": [
    "location = '/Users/gabriellachen/Desktop/millsboro pond .csv'\n",
    "df = pd.read_csv(location)"
   ]
  },
  {
   "cell_type": "code",
   "execution_count": 5,
   "metadata": {
    "collapsed": false
   },
   "outputs": [],
   "source": [
    "#Return the indices of the numbers that have five consecutive negative numbers\n",
    "def get_nums(column,df):\n",
    "    negative_nums = []\n",
    "    length = len(df[column])\n",
    "    \n",
    "    for x in range(length):\n",
    "        if pd.isnull(df[column][x]):\n",
    "            continue \n",
    "        elif (length-1) - x >= 4:\n",
    "            if df[column][x] < 0 and df[column][x+1] < 0 and df[column][x+2] < 0 and df[column][x+3] < 0:\n",
    "                negative_nums.append(x)\n",
    "                \n",
    "    return negative_nums\n"
   ]
  },
  {
   "cell_type": "code",
   "execution_count": 6,
   "metadata": {
    "collapsed": false
   },
   "outputs": [],
   "source": [
    "#Returns a list of dates between June and September\n",
    "def check_date(column,df):\n",
    "    good_dates = []\n",
    "    for x in df[column]:\n",
    "        if int(x[0]) > 5 and int(x[0]) < 9:\n",
    "            good_dates.append(x)\n",
    "    return good_dates\n"
   ]
  },
  {
   "cell_type": "code",
   "execution_count": 7,
   "metadata": {
    "collapsed": false
   },
   "outputs": [],
   "source": [
    "def kill_repeats(ls):\n",
    "    length = len(ls)\n",
    "    repeats = []\n",
    "    for i in range(length-1):\n",
    "        if ls[i] + 1 == ls[i+1]:\n",
    "            repeats.append(ls[i+1])\n",
    "\n",
    "    for i in repeats:\n",
    "        ls.remove(i)\n",
    "\n",
    "    return ls"
   ]
  },
  {
   "cell_type": "code",
   "execution_count": 8,
   "metadata": {
    "collapsed": false
   },
   "outputs": [],
   "source": [
    "#Returns a list of all the indices satisfying the requirments: 5 consecutive, during summer\n",
    "def get_points(column1, column2, df):\n",
    "    good_dates = check_date(column1,df)\n",
    "    neg_indices = get_nums(column2,df)\n",
    "\n",
    "    ls = []\n",
    "    for x in neg_indices:\n",
    "        if df[column1][x] in good_dates:\n",
    "                ls.append(x)\n",
    "    return ls\n",
    "\n",
    "ls = get_points('Date/Time','dC/dt',df)\n",
    "ls = kill_repeats(ls)"
   ]
  },
  {
   "cell_type": "code",
   "execution_count": 9,
   "metadata": {
    "collapsed": false
   },
   "outputs": [
    {
     "name": "stdout",
     "output_type": "stream",
     "text": [
      "[4544, 4559, 4581, 4810, 4851, 4859, 4878, 4911, 4931, 4947, 4980, 4987, 5019, 5059, 5080, 5093, 5113, 5126, 5138, 5156, 5179, 5363, 5746, 5960, 6034, 6081, 6087, 6095, 10931, 11949, 18422, 18635, 24797, 24821, 24833, 24861, 24869, 24874, 24937, 25105, 25235, 25285, 25317, 25914, 26752, 31782]\n"
     ]
    }
   ],
   "source": [
    "#Returning a list of all the indices with positive deficits because we need positive anomaly\n",
    "def pos_deficit(ls,column,df):\n",
    "    pos = []\n",
    "    for i in ls:\n",
    "        if df[column][i] > 0:\n",
    "            pos.append(i)      \n",
    "    return pos \n",
    "\n",
    "indices = pos_deficit(ls,'Deficit',df)\n",
    "print indices"
   ]
  },
  {
   "cell_type": "code",
   "execution_count": 10,
   "metadata": {
    "collapsed": false
   },
   "outputs": [
    {
     "name": "stdout",
     "output_type": "stream",
     "text": [
      "['6/4/06 5:00', '6/4/06 19:59', '6/5/06 19:00', '6/27/06 19:59', '6/29/06 15:00', '6/29/06 23:00', '6/30/06 19:00', '7/2/06 6:00', '7/3/06 3:00', '7/3/06 19:00', '7/5/06 6:00', '7/5/06 13:00', '7/6/06 22:00', '7/8/06 19:00', '7/9/06 17:00', '7/10/06 7:00', '7/11/06 3:59', '7/11/06 18:00', '7/12/06 7:00', '7/13/06 2:00', '7/14/06 2:00', '7/23/06 19:59', '8/11/06 5:00', '8/24/06 22:00', '8/28/06 3:59', '8/30/06 5:00', '8/30/06 11:00', '8/30/06 19:00', '6/15/07 2:00', '8/23/07 3:59', '7/18/08 6:00', '7/28/08 7:00', '6/1/09 3:59', '6/2/09 5:00', '6/2/09 17:00', '6/4/09 2:00', '6/4/09 10:00', '6/4/09 15:00', '6/7/09 9:00', '6/14/09 15:59', '6/20/09 11:00', '6/22/09 15:00', '6/26/09 7:00', '7/24/09 14:00', '8/31/09 23:00', '6/9/10 17:00']\n"
     ]
    }
   ],
   "source": [
    "def get_dates(indices,column,df):\n",
    "    dates = []\n",
    "    for i in indices:\n",
    "        dates.append(df[column][i])\n",
    "    \n",
    "    return dates \n",
    "\n",
    "dates = get_dates(indices,'Date/Time',df)\n",
    "print dates"
   ]
  },
  {
   "cell_type": "code",
   "execution_count": 11,
   "metadata": {
    "collapsed": false
   },
   "outputs": [],
   "source": [
    "def remove_time(dates):\n",
    "    return dates.split(' ')[0]\n",
    "\n",
    "#dates = list(set([remove_time(i) for i in dates]))\n",
    "#print int(df['Date/Time'][2][2]) + 1"
   ]
  },
  {
   "cell_type": "code",
   "execution_count": 12,
   "metadata": {
    "collapsed": false
   },
   "outputs": [
    {
     "name": "stdout",
     "output_type": "stream",
     "text": [
      "['6/4/06 5:00', '6/4/06 19:59', '6/5/06 19:00', '6/27/06 19:59', '6/29/06 15:00', '6/29/06 23:00', '6/30/06 19:00', '7/2/06 6:00', '7/3/06 3:00', '7/3/06 19:00', '7/5/06 6:00', '7/5/06 13:00', '7/6/06 22:00', '7/8/06 19:00', '7/9/06 17:00', '7/10/06 7:00', '7/11/06 3:59', '7/11/06 18:00', '7/12/06 7:00', '7/13/06 2:00', '7/14/06 2:00', '7/23/06 19:59', '8/11/06 5:00', '8/24/06 22:00', '8/28/06 3:59', '8/30/06 5:00', '8/30/06 11:00', '8/30/06 19:00', '6/15/07 2:00', '8/23/07 3:59', '7/18/08 6:00', '7/28/08 7:00', '6/1/09 3:59', '6/2/09 5:00', '6/2/09 17:00', '6/4/09 2:00', '6/4/09 10:00', '6/4/09 15:00', '6/7/09 9:00', '6/14/09 15:59', '6/20/09 11:00', '6/22/09 15:00', '6/26/09 7:00', '7/24/09 14:00', '8/31/09 23:00', '6/9/10 17:00']\n"
     ]
    }
   ],
   "source": [
    "#Dates is a list of dates \n",
    "def create_datelist (column,df):\n",
    "    #Create a list of dates\n",
    "    ls = []\n",
    "    for i in df[column]:\n",
    "        ls.append(i)\n",
    "    return ls\n",
    "\n",
    "datelist = create_datelist('Date/Time',df)\n",
    "print dates\n",
    "\n",
    "for i in datelist:\n",
    "    for b in dates:\n",
    "        if i[2:6] == b[2:6]: \n",
    "            break"
   ]
  },
  {
   "cell_type": "code",
   "execution_count": 13,
   "metadata": {
    "collapsed": false
   },
   "outputs": [
    {
     "name": "stdout",
     "output_type": "stream",
     "text": [
      "[(4544, 0), (4559, 1), (4581, 2), (4810, 3), (4851, 4), (4859, 5), (4878, 6), (4911, 7), (4931, 8), (4947, 9), (4980, 10), (4987, 11), (5019, 12), (5059, 13), (5080, 14), (5093, 15), (5113, 16), (5126, 17), (5138, 18), (5156, 19), (5179, 20), (5363, 21), (5746, 22), (5960, 23), (6034, 24), (6081, 25), (6087, 26), (6095, 27), (10931, 28), (11949, 29), (18422, 30), (18635, 31), (24797, 32), (24821, 33), (24833, 34), (24861, 35), (24869, 36), (24874, 37), (24937, 38), (25105, 39), (25235, 40), (25285, 41), (25317, 42), (25914, 43), (26752, 44), (31782, 45)]\n"
     ]
    }
   ],
   "source": [
    "#Create a visualization for the indices, so I can know which date/Time I'm on\n",
    "#in the subsequent functions \n",
    "def indices_num(indices):\n",
    "    indices_num = []\n",
    "    nums = []\n",
    "    \n",
    "    for i in range(len(indices)): \n",
    "        nums.append(i)\n",
    "    \n",
    "    current = 0\n",
    "    for i in indices:\n",
    "        if current < len(indices):\n",
    "            zipped = indices[current],nums[current]\n",
    "            indices_num.append(zipped)\n",
    "            current += 1 \n",
    "        else:\n",
    "            break\n",
    "            \n",
    "    return indices_num\n",
    "\n",
    "print indices_num(indices)"
   ]
  },
  {
   "cell_type": "code",
   "execution_count": 14,
   "metadata": {
    "collapsed": false
   },
   "outputs": [
    {
     "name": "stdout",
     "output_type": "stream",
     "text": [
      "[[2.012129657, 2.2540030719999997, 2.3240032429999999, 2.3840031859999997, 2.3640032049999999]]\n"
     ]
    }
   ],
   "source": [
    "#Returns a list of all the Deficit values \n",
    "def get_x(indices,column1,df):\n",
    "    x_Deficits = []\n",
    "    \n",
    "    for i in indices:\n",
    "        x_Deficits.append( [df[column1][i],df[column1][i+1], df[column1][i+2], df[column1][i+3], df[column1][i+4]] )\n",
    "    \n",
    "    return x_Deficits\n",
    "\n",
    "x_Deficits = get_x(indices,'Deficit',df)\n",
    "print x_Deficits[:1]"
   ]
  },
  {
   "cell_type": "code",
   "execution_count": 28,
   "metadata": {
    "collapsed": false
   },
   "outputs": [],
   "source": [
    "#Returns a list of all the ROC values \n",
    "def get_y(indices,column2,df):\n",
    "    y_ROC = []\n",
    "    \n",
    "    for i in indices:\n",
    "        y_ROC.append( [df[column2][i],df[column2][i+1], df[column2][i+2], df[column2][i+3], df[column2][i+4]] )\n",
    "        \n",
    "    return y_ROC\n",
    "\n",
    "y_ROC = get_y(indices,'dC/dt',df)"
   ]
  },
  {
   "cell_type": "code",
   "execution_count": 42,
   "metadata": {
    "collapsed": false
   },
   "outputs": [],
   "source": [
    "def create_dataset(x_Deficits,y_ROC):\n",
    "    assert len(x_Deficits) == len(y_ROC)\n",
    "    \n",
    "    result_list = []\n",
    "    \n",
    "    for i in range(len(x_Deficits)):\n",
    "        x = x_Deficits[i]\n",
    "        y = y_ROC[i]\n",
    "    \n",
    "        assert len(x) == len(y)\n",
    "        \n",
    "        result_list += [zip(x, y)]\n",
    "        \n",
    "    return result_list\n",
    "\n",
    "data_set = create_dataset(x_Deficits,y_ROC) "
   ]
  },
  {
   "cell_type": "code",
   "execution_count": 44,
   "metadata": {
    "collapsed": false
   },
   "outputs": [
    {
     "data": {
      "text/html": [
       "<div>\n",
       "<table border=\"1\" class=\"dataframe\">\n",
       "  <thead>\n",
       "    <tr style=\"text-align: right;\">\n",
       "      <th></th>\n",
       "      <th>Deficit</th>\n",
       "      <th>dCdt</th>\n",
       "    </tr>\n",
       "  </thead>\n",
       "  <tbody>\n",
       "    <tr>\n",
       "      <th>0</th>\n",
       "      <td>3.594021</td>\n",
       "      <td>-0.42</td>\n",
       "    </tr>\n",
       "    <tr>\n",
       "      <th>1</th>\n",
       "      <td>3.724021</td>\n",
       "      <td>-0.13</td>\n",
       "    </tr>\n",
       "    <tr>\n",
       "      <th>2</th>\n",
       "      <td>3.837085</td>\n",
       "      <td>-0.13</td>\n",
       "    </tr>\n",
       "    <tr>\n",
       "      <th>3</th>\n",
       "      <td>3.958075</td>\n",
       "      <td>-0.07</td>\n",
       "    </tr>\n",
       "    <tr>\n",
       "      <th>4</th>\n",
       "      <td>3.924021</td>\n",
       "      <td>0.00</td>\n",
       "    </tr>\n",
       "  </tbody>\n",
       "</table>\n",
       "</div>"
      ],
      "text/plain": [
       "    Deficit  dCdt\n",
       "0  3.594021 -0.42\n",
       "1  3.724021 -0.13\n",
       "2  3.837085 -0.13\n",
       "3  3.958075 -0.07\n",
       "4  3.924021  0.00"
      ]
     },
     "execution_count": 44,
     "metadata": {},
     "output_type": "execute_result"
    }
   ],
   "source": [
    "#Create a list of dataframes using the datasets \n",
    "#tuples refers to a list of datasets \n",
    "\n",
    "def create_df(data_set):\n",
    "    data_frames = []\n",
    "    for i in range(len(data_set)):\n",
    "        data_frames.append(pd.DataFrame(data=data_set[i],columns=['Deficit','dCdt']))\n",
    "    return data_frames \n",
    "\n",
    "data_frames = create_df(data_set)\n",
    "data_frames[40]"
   ]
  },
  {
   "cell_type": "code",
   "execution_count": 45,
   "metadata": {
    "collapsed": true
   },
   "outputs": [],
   "source": [
    "#Creates fitted models for each of the dataframes\n",
    "def create_models(data_frames):\n",
    "    lm = []\n",
    "    for i in range(len(data_frames)):\n",
    "        lm.append(smf.ols(formula= 'dCdt ~ Deficit', data=data_frames[i]).fit())\n",
    "        \n",
    "    return lm\n",
    "\n",
    "models = create_models(data_frames)"
   ]
  },
  {
   "cell_type": "code",
   "execution_count": null,
   "metadata": {
    "collapsed": false
   },
   "outputs": [],
   "source": []
  },
  {
   "cell_type": "code",
   "execution_count": 17,
   "metadata": {
    "collapsed": false
   },
   "outputs": [
    {
     "name": "stdout",
     "output_type": "stream",
     "text": [
      "Intercept   -0.177096\n",
      "Deficit     -0.067491\n",
      "dtype: float64\n"
     ]
    }
   ],
   "source": [
    "#Returns info for each model \n",
    "def get_models_info(models):\n",
    "    params = []\n",
    "    \n",
    "    for i in models:\n",
    "        params.append(i.params)\n",
    "        \n",
    "    return params \n",
    "        \n",
    "params = get_models_info(models)\n",
    "print params[0]"
   ]
  },
  {
   "cell_type": "code",
   "execution_count": 18,
   "metadata": {
    "collapsed": false
   },
   "outputs": [
    {
     "name": "stdout",
     "output_type": "stream",
     "text": [
      "set([0.16842448263900722, 0.21225754856771295, -0.17709628354780393, -0.13665545213788283, 0.54021190766555005])\n"
     ]
    }
   ],
   "source": [
    "#Intercepts are located at index 0 of params list \n",
    "def get_intercepts(params):\n",
    "    intercepts = []\n",
    "    \n",
    "    for i in params:\n",
    "        intercepts.append(i[0])\n",
    "    \n",
    "    return intercepts\n",
    "\n",
    "#Intercepts equals a list of all the respiration rates \n",
    "intercepts = get_intercepts(params)\n",
    "print set(intercepts)"
   ]
  },
  {
   "cell_type": "code",
   "execution_count": 19,
   "metadata": {
    "collapsed": false
   },
   "outputs": [
    {
     "name": "stdout",
     "output_type": "stream",
     "text": [
      "set([-0.069168408394361891, -0.069909823999324161, -0.13666103930185564, -0.06749134628888169, -0.10984205091372984])\n"
     ]
    }
   ],
   "source": [
    "#K coefficients are located at index 1 of params list \n",
    "def get_Kcoeff(params):\n",
    "    Kcoeff = []\n",
    "    for i in params:\n",
    "        Kcoeff.append(i[1])\n",
    "    \n",
    "    return Kcoeff\n",
    "\n",
    "# Kcoeff equals a list of all the gas-exchange coefficients\n",
    "Kcoeff = get_Kcoeff(params)\n",
    "print set(Kcoeff)"
   ]
  },
  {
   "cell_type": "code",
   "execution_count": null,
   "metadata": {
    "collapsed": false
   },
   "outputs": [],
   "source": [
    "def plot(data_frames):\n",
    "    for i in data_frames:\n",
    "        i.plot(kind='scatter',x='Deficit', y ='dCdt')\n",
    "        \n",
    "graphs = plot(data_frames)\n"
   ]
  },
  {
   "cell_type": "code",
   "execution_count": null,
   "metadata": {
    "collapsed": true
   },
   "outputs": [],
   "source": []
  },
  {
   "cell_type": "code",
   "execution_count": null,
   "metadata": {
    "collapsed": true
   },
   "outputs": [],
   "source": []
  },
  {
   "cell_type": "code",
   "execution_count": null,
   "metadata": {
    "collapsed": true
   },
   "outputs": [],
   "source": []
  }
 ],
 "metadata": {
  "kernelspec": {
   "display_name": "Python 2",
   "language": "python",
   "name": "python2"
  },
  "language_info": {
   "codemirror_mode": {
    "name": "ipython",
    "version": 2
   },
   "file_extension": ".py",
   "mimetype": "text/x-python",
   "name": "python",
   "nbconvert_exporter": "python",
   "pygments_lexer": "ipython2",
   "version": "2.7.10"
  }
 },
 "nbformat": 4,
 "nbformat_minor": 0
}
