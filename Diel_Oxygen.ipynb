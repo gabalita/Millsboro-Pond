{
 "cells": [
  {
   "cell_type": "code",
   "execution_count": 83,
   "metadata": {
    "collapsed": true
   },
   "outputs": [],
   "source": [
    "# To do list:\n",
    "# Figure out how to get the indices of the sunset and sunrise for each day\n",
    "# Using those indices, get the times for all the times (inclusive) between those intervals\n",
    "# Using the times, get a list of indices of each day and put in a list of lists"
   ]
  },
  {
   "cell_type": "code",
   "execution_count": 84,
   "metadata": {
    "collapsed": true
   },
   "outputs": [],
   "source": [
    "import pandas as pd\n",
    "import matplotlib.pyplot as plt\n",
    "import numpy as np\n",
    "\n",
    "pd.set_option('display.mpl_style','default')\n",
    "import sys\n",
    "\n",
    "# this is the standard import if you're using \"formula notation\" (similar to R)\n",
    "import statsmodels.formula.api as smf\n",
    "\n",
    "%matplotlib inline \n",
    "from datetime import datetime "
   ]
  },
  {
   "cell_type": "code",
   "execution_count": 85,
   "metadata": {
    "collapsed": false
   },
   "outputs": [],
   "source": [
    "location = '/Users/gabriellachen/Desktop/Millsboro-Pond/Millsboro_Pond.csv'\n",
    "df = pd.read_csv(location)"
   ]
  },
  {
   "cell_type": "code",
   "execution_count": 86,
   "metadata": {
    "collapsed": false
   },
   "outputs": [],
   "source": [
    "#Makes a list of the datetime objects\n",
    "def get_datetime(column,df):\n",
    "    dates = []\n",
    "    for i in df[column]:\n",
    "        date = datetime.strptime(i, '%m/%d/%Y %H:%M:%S')\n",
    "        dates.append(date)\n",
    "    \n",
    "    return dates\n",
    "\n",
    "dates = get_datetime('Date',df)"
   ]
  },
  {
   "cell_type": "code",
   "execution_count": 87,
   "metadata": {
    "collapsed": false,
    "scrolled": true
   },
   "outputs": [
    {
     "data": {
      "text/html": [
       "<div>\n",
       "<table border=\"1\" class=\"dataframe\">\n",
       "  <thead>\n",
       "    <tr style=\"text-align: right;\">\n",
       "      <th></th>\n",
       "      <th>Date</th>\n",
       "      <th>SID</th>\n",
       "      <th>DO</th>\n",
       "      <th>NH4</th>\n",
       "      <th>NO3</th>\n",
       "      <th>PH</th>\n",
       "      <th>PO4</th>\n",
       "      <th>SC</th>\n",
       "      <th>TE</th>\n",
       "      <th>TU</th>\n",
       "      <th>...</th>\n",
       "      <th>DO_Sat_mgL</th>\n",
       "      <th>DO_%Sat</th>\n",
       "      <th>DO Anomaly</th>\n",
       "      <th>Deficit</th>\n",
       "      <th>dCdt</th>\n",
       "      <th>Month</th>\n",
       "      <th>Day</th>\n",
       "      <th>Week</th>\n",
       "      <th>Light</th>\n",
       "      <th>Datetime</th>\n",
       "    </tr>\n",
       "  </thead>\n",
       "  <tbody>\n",
       "    <tr>\n",
       "      <th>0</th>\n",
       "      <td>12/21/2005 21:30:00</td>\n",
       "      <td>1231</td>\n",
       "      <td>11.88</td>\n",
       "      <td>NaN</td>\n",
       "      <td>NaN</td>\n",
       "      <td>5.5</td>\n",
       "      <td>NaN</td>\n",
       "      <td>128</td>\n",
       "      <td>5</td>\n",
       "      <td>4</td>\n",
       "      <td>...</td>\n",
       "      <td>12.766354</td>\n",
       "      <td>93.06%</td>\n",
       "      <td>-0.88635</td>\n",
       "      <td>0.886354</td>\n",
       "      <td>NaN</td>\n",
       "      <td>12</td>\n",
       "      <td>21</td>\n",
       "      <td>51</td>\n",
       "      <td>N</td>\n",
       "      <td>2005-12-21 21:30:00</td>\n",
       "    </tr>\n",
       "  </tbody>\n",
       "</table>\n",
       "<p>1 rows × 21 columns</p>\n",
       "</div>"
      ],
      "text/plain": [
       "                  Date   SID     DO  NH4  NO3   PH  PO4   SC  TE  TU  \\\n",
       "0  12/21/2005 21:30:00  1231  11.88  NaN  NaN  5.5  NaN  128   5   4   \n",
       "\n",
       "          ...          DO_Sat_mgL  DO_%Sat DO Anomaly   Deficit  dCdt  Month  \\\n",
       "0         ...           12.766354   93.06%   -0.88635  0.886354   NaN     12   \n",
       "\n",
       "   Day  Week  Light            Datetime  \n",
       "0   21    51      N 2005-12-21 21:30:00  \n",
       "\n",
       "[1 rows x 21 columns]"
      ]
     },
     "execution_count": 87,
     "metadata": {},
     "output_type": "execute_result"
    }
   ],
   "source": [
    "#Makes a new column of datetime objects \n",
    "df['Datetime'] = dates\n",
    "length = len(df['Datetime'])\n",
    "df[:1]"
   ]
  },
  {
   "cell_type": "code",
   "execution_count": 88,
   "metadata": {
    "collapsed": false
   },
   "outputs": [],
   "source": [
    "#Return the indices of locations with consecutive negative numbers (this is to pick out intervals with negative \n",
    "# rates of change\n",
    "def get_nums(column,df):\n",
    "    negative_nums = []\n",
    "    length = len(df[column])\n",
    "    \n",
    "    for x in range(length):\n",
    "        if pd.isnull(df[column][x]):\n",
    "            continue\n",
    "        elif (length-1) - x >= 4:\n",
    "            if float((df[column][x])) < 0 and float(df[column][x+1]) < 0 and float(df[column][x+2]) < 0 and float(df[column][x+3]) < 0 and float(df[column][x+4]) < 0:\n",
    "                negative_nums.append(x)\n",
    "                \n",
    "    return negative_nums\n",
    "\n",
    "neg_indices = get_nums('dCdt',df)"
   ]
  },
  {
   "cell_type": "code",
   "execution_count": 89,
   "metadata": {
    "collapsed": false
   },
   "outputs": [
    {
     "data": {
      "text/plain": [
       "[3407, 3408, 3409, 3410]"
      ]
     },
     "execution_count": 89,
     "metadata": {},
     "output_type": "execute_result"
    }
   ],
   "source": [
    "#Defines Summer as June, July, and August \n",
    "def is_Summer(column,df):\n",
    "    indices = []\n",
    "    for i in range(len(df[column])):\n",
    "        if df[column][i].month > 5 and df[column][i].month < 9:\n",
    "            indices.append(i)\n",
    "            \n",
    "    return indices\n",
    "\n",
    "summer_indices = is_Summer('Datetime',df)\n",
    "summer_indices[:4]"
   ]
  },
  {
   "cell_type": "code",
   "execution_count": 90,
   "metadata": {
    "collapsed": true
   },
   "outputs": [],
   "source": [
    "#Defines Fall as September, October, and November \n",
    "def is_Fall(column,df):\n",
    "    indices = []\n",
    "    for i in range(len(df[column])):\n",
    "        if df[column][i].month > 8 and df[column][i].month < 12:\n",
    "            indices.append(i)\n",
    "            \n",
    "    return indices\n",
    "\n",
    "fall_indices = is_Fall('Datetime',df)"
   ]
  },
  {
   "cell_type": "code",
   "execution_count": 91,
   "metadata": {
    "collapsed": true
   },
   "outputs": [],
   "source": [
    "#Defines Winter as December, January, and February \n",
    "def is_Winter(column,df):\n",
    "    indices = []\n",
    "    for i in range(len(df[column])):\n",
    "        if df[column][i].month > 0 and df[column][i].month < 3:\n",
    "            indices.append(i)\n",
    "            \n",
    "    return indices\n",
    "\n",
    "winter_indices = is_Winter('Datetime',df)"
   ]
  },
  {
   "cell_type": "code",
   "execution_count": 92,
   "metadata": {
    "collapsed": true
   },
   "outputs": [],
   "source": [
    "#Defines Spring as March, April, and May \n",
    "def is_Spring(column,df):\n",
    "    indices = []\n",
    "    for i in range(len(df[column])):\n",
    "        if df[column][i].month > 2 and df[column][i].month < 6:\n",
    "            indices.append(i)\n",
    "            \n",
    "    return indices\n",
    "\n",
    "spring_indices = is_Spring('Datetime',df)"
   ]
  },
  {
   "cell_type": "code",
   "execution_count": 93,
   "metadata": {
    "collapsed": false
   },
   "outputs": [
    {
     "ename": "KeyError",
     "evalue": "-1",
     "output_type": "error",
     "traceback": [
      "\u001b[0;31m---------------------------------------------------------------------------\u001b[0m",
      "\u001b[0;31mKeyError\u001b[0m                                  Traceback (most recent call last)",
      "\u001b[0;32m<ipython-input-93-378ca8f68d13>\u001b[0m in \u001b[0;36m<module>\u001b[0;34m()\u001b[0m\n\u001b[1;32m      8\u001b[0m \u001b[0;34m\u001b[0m\u001b[0m\n\u001b[1;32m      9\u001b[0m     \u001b[0;32mif\u001b[0m \u001b[0mi\u001b[0m \u001b[0;34m>\u001b[0m \u001b[0;36m1\u001b[0m \u001b[0;32mor\u001b[0m \u001b[0mi\u001b[0m \u001b[0;34m<\u001b[0m \u001b[0;34m(\u001b[0m\u001b[0mlength\u001b[0m\u001b[0;34m-\u001b[0m\u001b[0;36m1\u001b[0m\u001b[0;34m)\u001b[0m\u001b[0;34m:\u001b[0m\u001b[0;34m\u001b[0m\u001b[0m\n\u001b[0;32m---> 10\u001b[0;31m         \u001b[0;32mif\u001b[0m \u001b[0mdf\u001b[0m\u001b[0;34m[\u001b[0m\u001b[0;34m'Light'\u001b[0m\u001b[0;34m]\u001b[0m\u001b[0;34m[\u001b[0m\u001b[0mi\u001b[0m\u001b[0;34m]\u001b[0m \u001b[0;34m==\u001b[0m \u001b[0;34m'N'\u001b[0m \u001b[0;32mand\u001b[0m \u001b[0mdf\u001b[0m\u001b[0;34m[\u001b[0m\u001b[0;34m'Light'\u001b[0m\u001b[0;34m]\u001b[0m\u001b[0;34m[\u001b[0m\u001b[0mi\u001b[0m\u001b[0;34m-\u001b[0m\u001b[0;36m1\u001b[0m\u001b[0;34m]\u001b[0m \u001b[0;34m==\u001b[0m \u001b[0;34m'Y'\u001b[0m\u001b[0;34m:\u001b[0m\u001b[0;34m\u001b[0m\u001b[0m\n\u001b[0m\u001b[1;32m     11\u001b[0m             \u001b[0msunset\u001b[0m\u001b[0;34m.\u001b[0m\u001b[0mappend\u001b[0m\u001b[0;34m(\u001b[0m\u001b[0mi\u001b[0m\u001b[0;34m)\u001b[0m\u001b[0;34m\u001b[0m\u001b[0m\n\u001b[1;32m     12\u001b[0m         \u001b[0;32mif\u001b[0m \u001b[0mdf\u001b[0m\u001b[0;34m[\u001b[0m\u001b[0;34m'Light'\u001b[0m\u001b[0;34m]\u001b[0m\u001b[0;34m[\u001b[0m\u001b[0mi\u001b[0m\u001b[0;34m]\u001b[0m \u001b[0;34m==\u001b[0m \u001b[0;34m'N'\u001b[0m \u001b[0;32mand\u001b[0m \u001b[0mdf\u001b[0m\u001b[0;34m[\u001b[0m\u001b[0;34m'Light'\u001b[0m\u001b[0;34m]\u001b[0m\u001b[0;34m[\u001b[0m\u001b[0mi\u001b[0m\u001b[0;34m+\u001b[0m\u001b[0;36m1\u001b[0m\u001b[0;34m]\u001b[0m \u001b[0;34m==\u001b[0m \u001b[0;34m'Y'\u001b[0m\u001b[0;34m:\u001b[0m\u001b[0;34m\u001b[0m\u001b[0m\n",
      "\u001b[0;32m/Users/gabriellachen/anaconda/lib/python2.7/site-packages/pandas/core/series.pyc\u001b[0m in \u001b[0;36m__getitem__\u001b[0;34m(self, key)\u001b[0m\n\u001b[1;32m    519\u001b[0m     \u001b[0;32mdef\u001b[0m \u001b[0m__getitem__\u001b[0m\u001b[0;34m(\u001b[0m\u001b[0mself\u001b[0m\u001b[0;34m,\u001b[0m \u001b[0mkey\u001b[0m\u001b[0;34m)\u001b[0m\u001b[0;34m:\u001b[0m\u001b[0;34m\u001b[0m\u001b[0m\n\u001b[1;32m    520\u001b[0m         \u001b[0;32mtry\u001b[0m\u001b[0;34m:\u001b[0m\u001b[0;34m\u001b[0m\u001b[0m\n\u001b[0;32m--> 521\u001b[0;31m             \u001b[0mresult\u001b[0m \u001b[0;34m=\u001b[0m \u001b[0mself\u001b[0m\u001b[0;34m.\u001b[0m\u001b[0mindex\u001b[0m\u001b[0;34m.\u001b[0m\u001b[0mget_value\u001b[0m\u001b[0;34m(\u001b[0m\u001b[0mself\u001b[0m\u001b[0;34m,\u001b[0m \u001b[0mkey\u001b[0m\u001b[0;34m)\u001b[0m\u001b[0;34m\u001b[0m\u001b[0m\n\u001b[0m\u001b[1;32m    522\u001b[0m \u001b[0;34m\u001b[0m\u001b[0m\n\u001b[1;32m    523\u001b[0m             \u001b[0;32mif\u001b[0m \u001b[0;32mnot\u001b[0m \u001b[0mnp\u001b[0m\u001b[0;34m.\u001b[0m\u001b[0misscalar\u001b[0m\u001b[0;34m(\u001b[0m\u001b[0mresult\u001b[0m\u001b[0;34m)\u001b[0m\u001b[0;34m:\u001b[0m\u001b[0;34m\u001b[0m\u001b[0m\n",
      "\u001b[0;32m/Users/gabriellachen/anaconda/lib/python2.7/site-packages/pandas/core/index.pyc\u001b[0m in \u001b[0;36mget_value\u001b[0;34m(self, series, key)\u001b[0m\n\u001b[1;32m   1593\u001b[0m \u001b[0;34m\u001b[0m\u001b[0m\n\u001b[1;32m   1594\u001b[0m         \u001b[0;32mtry\u001b[0m\u001b[0;34m:\u001b[0m\u001b[0;34m\u001b[0m\u001b[0m\n\u001b[0;32m-> 1595\u001b[0;31m             \u001b[0;32mreturn\u001b[0m \u001b[0mself\u001b[0m\u001b[0;34m.\u001b[0m\u001b[0m_engine\u001b[0m\u001b[0;34m.\u001b[0m\u001b[0mget_value\u001b[0m\u001b[0;34m(\u001b[0m\u001b[0ms\u001b[0m\u001b[0;34m,\u001b[0m \u001b[0mk\u001b[0m\u001b[0;34m)\u001b[0m\u001b[0;34m\u001b[0m\u001b[0m\n\u001b[0m\u001b[1;32m   1596\u001b[0m         \u001b[0;32mexcept\u001b[0m \u001b[0mKeyError\u001b[0m \u001b[0;32mas\u001b[0m \u001b[0me1\u001b[0m\u001b[0;34m:\u001b[0m\u001b[0;34m\u001b[0m\u001b[0m\n\u001b[1;32m   1597\u001b[0m             \u001b[0;32mif\u001b[0m \u001b[0mlen\u001b[0m\u001b[0;34m(\u001b[0m\u001b[0mself\u001b[0m\u001b[0;34m)\u001b[0m \u001b[0;34m>\u001b[0m \u001b[0;36m0\u001b[0m \u001b[0;32mand\u001b[0m \u001b[0mself\u001b[0m\u001b[0;34m.\u001b[0m\u001b[0minferred_type\u001b[0m \u001b[0;32min\u001b[0m \u001b[0;34m[\u001b[0m\u001b[0;34m'integer'\u001b[0m\u001b[0;34m,\u001b[0m\u001b[0;34m'boolean'\u001b[0m\u001b[0;34m]\u001b[0m\u001b[0;34m:\u001b[0m\u001b[0;34m\u001b[0m\u001b[0m\n",
      "\u001b[0;32mpandas/index.pyx\u001b[0m in \u001b[0;36mpandas.index.IndexEngine.get_value (pandas/index.c:3113)\u001b[0;34m()\u001b[0m\n",
      "\u001b[0;32mpandas/index.pyx\u001b[0m in \u001b[0;36mpandas.index.IndexEngine.get_value (pandas/index.c:2844)\u001b[0;34m()\u001b[0m\n",
      "\u001b[0;32mpandas/index.pyx\u001b[0m in \u001b[0;36mpandas.index.IndexEngine.get_loc (pandas/index.c:3704)\u001b[0;34m()\u001b[0m\n",
      "\u001b[0;32mpandas/hashtable.pyx\u001b[0m in \u001b[0;36mpandas.hashtable.Int64HashTable.get_item (pandas/hashtable.c:7224)\u001b[0;34m()\u001b[0m\n",
      "\u001b[0;32mpandas/hashtable.pyx\u001b[0m in \u001b[0;36mpandas.hashtable.Int64HashTable.get_item (pandas/hashtable.c:7162)\u001b[0;34m()\u001b[0m\n",
      "\u001b[0;31mKeyError\u001b[0m: -1"
     ]
    }
   ],
   "source": [
    "#This is supposed to output a list of indices when the sun sets and a list of\n",
    "#indices when the sun rises. \n",
    "\n",
    "sunset = []\n",
    "sunrise = []\n",
    "\n",
    "for i in range(length):\n",
    "    \n",
    "    if i > 1 or i < (length-1):\n",
    "        if df['Light'][i] == 'N' and df['Light'][i-1] == 'Y':\n",
    "            sunset.append(i)\n",
    "        if df['Light'][i] == 'N' and df['Light'][i+1] == 'Y':\n",
    "            sunrise.append(i)\n",
    "        else:\n",
    "            continue\n",
    "    else:\n",
    "        break\n"
   ]
  },
  {
   "cell_type": "code",
   "execution_count": null,
   "metadata": {
    "collapsed": false
   },
   "outputs": [],
   "source": [
    "# This should create a list of tuples each with the indices of when the night begins and ends for each day.\n",
    "# Attempting to output: [ (200,207), (217,225), (340,348)...etc]\n",
    "\n",
    "def night_interval(sunset,sunrise):\n",
    "    assert len(sunset) == len(sunrise)\n",
    "    \n",
    "    result_list = []\n",
    "    \n",
    "    for i in range(len(sunset)):\n",
    "        x = sunset[i]\n",
    "        y = sunrise[i]\n",
    "    \n",
    "        assert len(x) == len(y)\n",
    "        \n",
    "        result_list += [zip(x, y)]\n",
    "        \n",
    "    return result_list\n",
    "night_intervals = night_interval(sunset,sunrise) "
   ]
  },
  {
   "cell_type": "code",
   "execution_count": null,
   "metadata": {
    "collapsed": false
   },
   "outputs": [],
   "source": [
    "# Returns a list of all the indices between the indices, incluing the start and end indices\n",
    "# Attempting to output: [ [200,201,202,203,204,205,206,207], [217,218,219,220,221,222,223,224,225]...etc ]\n",
    "\n",
    "def nighttime_index(night_intervals):\n",
    "    # Remember night_intervals equals just a list of tuples >>> example: [(1,7), (16,24)...etc]\n",
    "    \n",
    "    indices = []\n",
    "    temp = []\n",
    "    for i in night_intervals:\n",
    "        for x in range(i[1]+1):\n",
    "            if x >= i[0]:\n",
    "                temp.append(x)\n",
    "        indices.append(temp)\n",
    "        temp = []\n",
    "            \n",
    "    return indices\n",
    "\n",
    "indices = nighttime_index(night_intervals)"
   ]
  },
  {
   "cell_type": "code",
   "execution_count": null,
   "metadata": {
    "collapsed": false
   },
   "outputs": [],
   "source": [
    "#Returns a list of lists of deficit values for each night\n",
    "def get_Deficit(indices,column1,df):\n",
    "    \n",
    "    # Remember indices will be a list of sublists; For example: indices = [ [200,201,202,203,204,205,206,207]...etc ]\n",
    "    x_Deficits = []\n",
    "    temp = []\n",
    "    for i in indices:\n",
    "        for x in i:\n",
    "            temp.append(df[column1][x])\n",
    "            \n",
    "        x_Deficits.append(temp)\n",
    "        temp = []\n",
    "        \n",
    "    return x_Deficits\n",
    "\n",
    "x_Deficits = get_Deficit(indices,'Deficit',df)\n",
    "\n",
    "print x_Deficits[:1]"
   ]
  },
  {
   "cell_type": "code",
   "execution_count": 81,
   "metadata": {
    "collapsed": false
   },
   "outputs": [
    {
     "name": "stdout",
     "output_type": "stream",
     "text": [
      "[]\n"
     ]
    }
   ],
   "source": [
    "#Returns a list of lists of rate-of-change values for each night\n",
    "def get_ROC(indices,column2,df):\n",
    "    y_ROC = []\n",
    "    temp = []\n",
    "    for i in indices:\n",
    "        for x in i:\n",
    "            temp.append(df[column2][x])\n",
    "            \n",
    "        y_ROC.append(temp)\n",
    "        temp = []\n",
    "        \n",
    "    return y_ROC\n",
    "\n",
    "\n",
    "y_ROC = get_ROC(indices,'dCdt',df)\n",
    "print y_ROC[:1]"
   ]
  },
  {
   "cell_type": "code",
   "execution_count": 82,
   "metadata": {
    "collapsed": true
   },
   "outputs": [],
   "source": [
    "def kill_repeats(ls):\n",
    "    length = len(ls)\n",
    "    repeats = []\n",
    "    for i in range(length-1):\n",
    "        if ls[i] + 1 == ls[i+1]:\n",
    "            repeats.append(ls[i+1])\n",
    "\n",
    "    for i in repeats:\n",
    "        ls.remove(i)\n",
    "\n",
    "    return ls"
   ]
  },
  {
   "cell_type": "code",
   "execution_count": 64,
   "metadata": {
    "collapsed": false
   },
   "outputs": [],
   "source": [
    "#Returns a list of all the indices satisfying the requirments: 5 consecutive, during summer\n",
    "def get_points(column1, column2, df):\n",
    "    neg_indices = get_nums(column2,df)\n",
    "    summer_indices = is_Summer(column1,df)\n",
    "\n",
    "    ls = []\n",
    "    for x in neg_indices:\n",
    "        if x in summer_indices:\n",
    "                ls.append(x)\n",
    "    return ls\n",
    "\n",
    "ls = get_points('Datetime','dCdt',df)\n",
    "ls = kill_repeats(ls)\n"
   ]
  },
  {
   "cell_type": "code",
   "execution_count": 50,
   "metadata": {
    "collapsed": false
   },
   "outputs": [
    {
     "name": "stdout",
     "output_type": "stream",
     "text": [
      "[3478, 3500, 3770, 3830, 3850, 3899, 4075, 4665, 4953, 5014, 9850, 10868, 23716, 23752, 23793, 23856, 25671, 30701]\n"
     ]
    }
   ],
   "source": [
    "#Returning a list of all the indices with positive deficits because we need positive anomaly\n",
    "def pos_deficit(ls,column,df):\n",
    "    pos = []\n",
    "    for i in ls:\n",
    "        if df[column][i] > 0:\n",
    "            pos.append(i)      \n",
    "    return pos \n",
    "\n",
    "indices = pos_deficit(ls,'Deficit',df)\n",
    "print indices"
   ]
  },
  {
   "cell_type": "code",
   "execution_count": 65,
   "metadata": {
    "collapsed": false
   },
   "outputs": [
    {
     "name": "stdout",
     "output_type": "stream",
     "text": [
      "[(3478, 0), (3500, 1), (3770, 2), (3830, 3), (3850, 4), (3899, 5), (4075, 6), (4665, 7), (4953, 8), (5014, 9), (9850, 10), (10868, 11), (23716, 12), (23752, 13), (23793, 14), (23856, 15), (25671, 16), (30701, 17)]\n"
     ]
    }
   ],
   "source": [
    "#Create a visualization for the indices, so I can know which date/Time I'm on\n",
    "#in the subsequent functions \n",
    "def indices_num(indices):\n",
    "    indices_num = []\n",
    "    nums = []\n",
    "    \n",
    "    for i in range(len(indices)): \n",
    "        nums.append(i)\n",
    "    \n",
    "    current = 0\n",
    "    for i in indices:\n",
    "        if current < len(indices):\n",
    "            zipped = indices[current],nums[current]\n",
    "            indices_num.append(zipped)\n",
    "            current += 1 \n",
    "        else:\n",
    "            break\n",
    "            \n",
    "    return indices_num\n",
    "\n",
    "print indices_num(indices)"
   ]
  },
  {
   "cell_type": "code",
   "execution_count": 66,
   "metadata": {
    "collapsed": false
   },
   "outputs": [
    {
     "name": "stdout",
     "output_type": "stream",
     "text": [
      "[[2.249031215, 2.4578011549999998, 2.6533894990000002, 3.1504729619999998, 3.6321295419999999]]\n"
     ]
    }
   ],
   "source": [
    "#Returns a list of all the Deficit values \n",
    "def get_x(indices,column1,df):\n",
    "    x_Deficits = []\n",
    "    \n",
    "    for i in indices:\n",
    "        x_Deficits.append( [df[column1][i],df[column1][i+1], df[column1][i+2], df[column1][i+3], df[column1][i+4]] )\n",
    "    \n",
    "    return x_Deficits\n",
    "\n",
    "x_Deficits = get_x(indices,'Deficit',df)\n",
    "print x_Deficits[:1]"
   ]
  },
  {
   "cell_type": "code",
   "execution_count": 71,
   "metadata": {
    "collapsed": false
   },
   "outputs": [
    {
     "name": "stdout",
     "output_type": "stream",
     "text": [
      "[[-0.519999981, -0.23999977100000003, -0.179999828, -0.45000028600000003, -0.44999980899999997]]\n"
     ]
    }
   ],
   "source": [
    "#Returns a list of all the ROC values \n",
    "def get_y(indices,column2,df):\n",
    "    y_ROC = []\n",
    "    \n",
    "    for i in indices:\n",
    "        y_ROC.append( [df[column2][i],df[column2][i+1], df[column2][i+2], df[column2][i+3], df[column2][i+4]] )\n",
    "        \n",
    "    return y_ROC\n",
    "\n",
    "y_ROC = get_y(indices,'dCdt',df)\n",
    "print y_ROC[:1]"
   ]
  },
  {
   "cell_type": "code",
   "execution_count": 72,
   "metadata": {
    "collapsed": true
   },
   "outputs": [],
   "source": [
    "def create_dataset(x_Deficits,y_ROC):\n",
    "    assert len(x_Deficits) == len(y_ROC)\n",
    "    \n",
    "    result_list = []\n",
    "    \n",
    "    for i in range(len(x_Deficits)):\n",
    "        x = x_Deficits[i]\n",
    "        y = y_ROC[i]\n",
    "    \n",
    "        assert len(x) == len(y)\n",
    "        \n",
    "        result_list += [zip(x, y)]\n",
    "        \n",
    "    return result_list\n",
    "\n",
    "data_set = create_dataset(x_Deficits,y_ROC) "
   ]
  },
  {
   "cell_type": "code",
   "execution_count": 73,
   "metadata": {
    "collapsed": true
   },
   "outputs": [],
   "source": [
    "#Create a list of dataframes using the datasets \n",
    "#tuples refers to a list of datasets \n",
    "\n",
    "def create_df(data_set):\n",
    "    data_frames = []\n",
    "    for i in range(len(data_set)):\n",
    "        data_frames.append(pd.DataFrame(data=data_set[i],columns=['Deficit','dCdt']))\n",
    "    return data_frames \n",
    "\n",
    "data_frames = create_df(data_set)"
   ]
  },
  {
   "cell_type": "code",
   "execution_count": 74,
   "metadata": {
    "collapsed": true
   },
   "outputs": [],
   "source": [
    "#Creates fitted models for each of the dataframes\n",
    "def create_models(data_frames):\n",
    "    lm = []\n",
    "    for i in range(len(data_frames)):\n",
    "        lm.append(smf.ols(formula= 'dCdt ~ Deficit', data=data_frames[i]).fit())\n",
    "        \n",
    "    return lm\n",
    "\n",
    "models = create_models(data_frames)"
   ]
  },
  {
   "cell_type": "code",
   "execution_count": 75,
   "metadata": {
    "collapsed": false
   },
   "outputs": [
    {
     "name": "stdout",
     "output_type": "stream",
     "text": [
      "Intercept   -0.177096\n",
      "Deficit     -0.067491\n",
      "dtype: float64\n"
     ]
    }
   ],
   "source": [
    "#Returns info for each model \n",
    "def get_models_info(models):\n",
    "    params = []\n",
    "    \n",
    "    for i in models:\n",
    "        params.append(i.params)\n",
    "        \n",
    "    return params \n",
    "        \n",
    "params = get_models_info(models)\n",
    "print params[0]"
   ]
  },
  {
   "cell_type": "code",
   "execution_count": 76,
   "metadata": {
    "collapsed": false
   },
   "outputs": [
    {
     "name": "stdout",
     "output_type": "stream",
     "text": [
      "set([0.025448134059650518, 0.13134599878822067, 0.30283394819941084, -0.27629808144163726, -0.086541730306087472, -0.17709628354780393, -0.13665545213788283, -0.45574670704808373, -1.2019139407961537, -0.10715229720913921, -0.46884329975523875, 0.41574823549931517, 0.0096554557498025675, -0.92298269667968369, 0.52321352253971365, 0.21225754856771295, 0.94094267274125809, -0.26392616395157142])\n"
     ]
    }
   ],
   "source": [
    "#Intercepts are located at index 0 of params list \n",
    "def get_intercepts(params):\n",
    "    intercepts = []\n",
    "    \n",
    "    for i in params:\n",
    "        intercepts.append(i[0])\n",
    "    \n",
    "    return intercepts\n",
    "\n",
    "#Intercepts equals a list of all the respiration rates \n",
    "intercepts = get_intercepts(params)\n",
    "print set(intercepts)"
   ]
  },
  {
   "cell_type": "code",
   "execution_count": 77,
   "metadata": {
    "collapsed": false
   },
   "outputs": [
    {
     "name": "stdout",
     "output_type": "stream",
     "text": [
      "set([-0.15437388957693843, -0.069909823999324161, 0.26534932190229266, 0.15119547474296091, -0.033126544943416304, -0.37092704142273225, -0.17829823758473984, 0.1186415653176429, -0.06749134628888169, -0.078042250032198932, -0.18954643071842187, -0.069168408394361891, -0.1026247356868665, -0.14082360616811521, 0.24670035280833685, 0.17630283505257632, 0.40483237767050873, -0.18806980194027062])\n"
     ]
    }
   ],
   "source": [
    "#K coefficients are located at index 1 of params list \n",
    "def get_Kcoeff(params):\n",
    "    Kcoeff = []\n",
    "    for i in params:\n",
    "        Kcoeff.append(i[1])\n",
    "    \n",
    "    return Kcoeff\n",
    "\n",
    "# Kcoeff equals a list of all the gas-exchange coefficients\n",
    "Kcoeff = get_Kcoeff(params)\n",
    "print set(Kcoeff)"
   ]
  },
  {
   "cell_type": "code",
   "execution_count": 78,
   "metadata": {
    "collapsed": false
   },
   "outputs": [
    {
     "data": {
      "image/png": "[encoded data removed]",
      "text/plain": [
       "<matplotlib.figure.Figure at 0x101f9edd0>"
      ]
     },
     "metadata": {},
     "output_type": "display_data"
    },
    {
     "data": {
      "image/png": "[encoded data removed]",
      "text/plain": [
       "<matplotlib.figure.Figure at 0x1090a9610>"
      ]
     },
     "metadata": {},
     "output_type": "display_data"
    },
    {
     "data": {
      "image/png": "[encoded data removed]",
      "text/plain": [
       "<matplotlib.figure.Figure at 0x1099b3510>"
      ]
     },
     "metadata": {},
     "output_type": "display_data"
    },
    {
     "data": {
      "image/png": "[encoded data removed]",
      "text/plain": [
       "<matplotlib.figure.Figure at 0x10ba19e90>"
      ]
     },
     "metadata": {},
     "output_type": "display_data"
    },
    {
     "data": {
      "image/png": "[encoded data removed]",
      "text/plain": [
       "<matplotlib.figure.Figure at 0x10bc076d0>"
      ]
     },
     "metadata": {},
     "output_type": "display_data"
    },
    {
     "data": {
      "image/png": "[encoded data removed]",
      "text/plain": [
       "<matplotlib.figure.Figure at 0x10ba4b950>"
      ]
     },
     "metadata": {},
     "output_type": "display_data"
    },
    {
     "data": {
      "image/png": "[encoded data removed]",
      "text/plain": [
       "<matplotlib.figure.Figure at 0x109a26310>"
      ]
     },
     "metadata": {},
     "output_type": "display_data"
    },
    {
     "data": {
      "image/png": "[encoded data removed]",
      "text/plain": [
       "<matplotlib.figure.Figure at 0x109e637d0>"
      ]
     },
     "metadata": {},
     "output_type": "display_data"
    },
    {
     "data": {
      "image/png": "[encoded data removed]",
      "text/plain": [
       "<matplotlib.figure.Figure at 0x10a479c50>"
      ]
     },
     "metadata": {},
     "output_type": "display_data"
    },
    {
     "data": {
      "image/png": "[encoded data removed]",
      "text/plain": [
       "<matplotlib.figure.Figure at 0x10a62bed0>"
      ]
     },
     "metadata": {},
     "output_type": "display_data"
    },
    {
     "data": {
      "image/png": "[encoded data removed]",
      "text/plain": [
       "<matplotlib.figure.Figure at 0x10b484e90>"
      ]
     },
     "metadata": {},
     "output_type": "display_data"
    },
    {
     "data": {
      "image/png": "[encoded data removed]",
      "text/plain": [
       "<matplotlib.figure.Figure at 0x10b47b050>"
      ]
     },
     "metadata": {},
     "output_type": "display_data"
    },
    {
     "data": {
      "image/png": "[encoded data removed]",
      "text/plain": [
       "<matplotlib.figure.Figure at 0x10b8d7390>"
      ]
     },
     "metadata": {},
     "output_type": "display_data"
    },
    {
     "data": {
      "image/png": "[encoded data removed]",
      "text/plain": [
       "<matplotlib.figure.Figure at 0x10c50c850>"
      ]
     },
     "metadata": {},
     "output_type": "display_data"
    },
    {
     "data": {
      "image/png": "[encoded data removed]",
      "text/plain": [
       "<matplotlib.figure.Figure at 0x10c5c2a50>"
      ]
     },
     "metadata": {},
     "output_type": "display_data"
    },
    {
     "data": {
      "image/png": "[encoded data removed]",
      "text/plain": [
       "<matplotlib.figure.Figure at 0x10c9122d0>"
      ]
     },
     "metadata": {},
     "output_type": "display_data"
    },
    {
     "data": {
      "image/png": "[encoded data removed]",
      "text/plain": [
       "<matplotlib.figure.Figure at 0x10c912cd0>"
      ]
     },
     "metadata": {},
     "output_type": "display_data"
    },
    {
     "data": {
      "image/png": "[encoded data removed]",
      "text/plain": [
       "<matplotlib.figure.Figure at 0x10c9e8990>"
      ]
     },
     "metadata": {},
     "output_type": "display_data"
    }
   ],
   "source": [
    "def plot(data_frames):\n",
    "    for i in data_frames:\n",
    "        i.plot(kind='scatter',x='Deficit', y ='dCdt')\n",
    "        \n",
    "graphs = plot(data_frames)"
   ]
  },
  {
   "cell_type": "code",
   "execution_count": null,
   "metadata": {
    "collapsed": true
   },
   "outputs": [],
   "source": [
    "1"
   ]
  }
 ],
 "metadata": {
  "kernelspec": {
   "display_name": "Python 2",
   "language": "python",
   "name": "python2"
  },
  "language_info": {
   "codemirror_mode": {
    "name": "ipython",
    "version": 2
   },
   "file_extension": ".py",
   "mimetype": "text/x-python",
   "name": "python",
   "nbconvert_exporter": "python",
   "pygments_lexer": "ipython2",
   "version": "2.7.10"
  }
 },
 "nbformat": 4,
 "nbformat_minor": 0
}
