{
 "cells": [
  {
   "cell_type": "code",
   "execution_count": 3,
   "metadata": {
    "collapsed": true
   },
   "outputs": [],
   "source": [
    "# To do list:\n",
    "# Figure out why the date is messed up\n",
    "# Tell Kevin that I need to select only the dates between June/September \n",
    "# What is a timespan\n",
    "# Will converting these strings to datatime instruments help"
   ]
  },
  {
   "cell_type": "code",
   "execution_count": 4,
   "metadata": {
    "collapsed": true
   },
   "outputs": [],
   "source": [
    "import pandas as pd\n",
    "import matplotlib.pyplot as plt\n",
    "import numpy as np\n",
    "\n",
    "pd.set_option('display.mpl_style','default')\n",
    "import sys\n",
    "\n",
    "# this is the standard import if you're using \"formula notation\" (similar to R)\n",
    "import statsmodels.formula.api as smf\n",
    "\n",
    "%matplotlib inline \n",
    "from datetime import datetime "
   ]
  },
  {
   "cell_type": "code",
   "execution_count": null,
   "metadata": {
    "collapsed": false
   },
   "outputs": [],
   "source": [
    "location = '/Users/gabriellachen/Desktop/Millsboro-Pond/Millsboro_Pond.csv'\n",
    "df = pd.read_csv(location)"
   ]
  },
  {
   "cell_type": "code",
   "execution_count": null,
   "metadata": {
    "collapsed": false
   },
   "outputs": [],
   "source": [
    "#Return the indices of locations with consecutive negative numbers (this is to pick out intervals with negative \n",
    "# rates of change\n",
    "def get_nums(column,df):\n",
    "    negative_nums = []\n",
    "    length = len(df[column])\n",
    "    \n",
    "    for x in range(length):\n",
    "        if pd.isnull(df[column][x]):\n",
    "            continue\n",
    "        elif (length-1) - x >= 4:\n",
    "            if float((df[column][x])) < 0 and float(df[column][x+1]) < 0 and float(df[column][x+2]) < 0 and float(df[column][x+3]) < 0 and float(df[column][x+4]) < 0:\n",
    "                negative_nums.append(x)\n",
    "                \n",
    "    return negative_nums\n",
    "\n",
    "neg_indices = get_nums('dCdt',df)"
   ]
  },
  {
   "cell_type": "code",
   "execution_count": null,
   "metadata": {
    "collapsed": false
   },
   "outputs": [],
   "source": [
    "#Makes a list of the datetime objects\n",
    "def get_datetime(column,df):\n",
    "    dates = []\n",
    "    for i in df[column]:\n",
    "        date = datetime.strptime(i, '%m/%d/%Y %H:%M:%S')\n",
    "        dates.append(date)\n",
    "        \n",
    "dates = get_datetime('Date',df)\n",
    "\n",
    "df['Date-time'] = dates\n",
    "df[:3]\n"
   ]
  },
  {
   "cell_type": "code",
   "execution_count": null,
   "metadata": {
    "collapsed": false
   },
   "outputs": [],
   "source": [
    "start = datetime(2011, 1, 1)\n",
    "end = datetime(2012, 1, 1)\n",
    "rng = pd.date_range(start, end)\n",
    "rng"
   ]
  },
  {
   "cell_type": "code",
   "execution_count": null,
   "metadata": {
    "collapsed": true
   },
   "outputs": [],
   "source": [
    "def kill_repeats(ls):\n",
    "    length = len(ls)\n",
    "    repeats = []\n",
    "    for i in range(length-1):\n",
    "        if ls[i] + 1 == ls[i+1]:\n",
    "            repeats.append(ls[i+1])\n",
    "\n",
    "    for i in repeats:\n",
    "        ls.remove(i)\n",
    "\n",
    "    return ls"
   ]
  },
  {
   "cell_type": "code",
   "execution_count": null,
   "metadata": {
    "collapsed": false
   },
   "outputs": [],
   "source": [
    "#Returns a list of all the indices satisfying the requirments: 5 consecutive, during summer\n",
    "def get_points(column1, column2, df):\n",
    "    good_dates = check_date(column1,df)\n",
    "    neg_indices = get_nums(column2,df)\n",
    "\n",
    "    ls = []\n",
    "    for x in neg_indices:\n",
    "        if df[column1][x] in good_dates:\n",
    "                ls.append(x)\n",
    "    return ls\n",
    "\n",
    "ls = get_points('Date/Time','dCdt',df)\n",
    "ls = kill_repeats(ls)"
   ]
  },
  {
   "cell_type": "code",
   "execution_count": 44,
   "metadata": {
    "collapsed": false
   },
   "outputs": [
    {
     "ename": "NameError",
     "evalue": "name 'ls' is not defined",
     "output_type": "error",
     "traceback": [
      "\u001b[0;31m---------------------------------------------------------------------------\u001b[0m",
      "\u001b[0;31mNameError\u001b[0m                                 Traceback (most recent call last)",
      "\u001b[0;32m<ipython-input-44-75c946a008ba>\u001b[0m in \u001b[0;36m<module>\u001b[0;34m()\u001b[0m\n\u001b[1;32m      7\u001b[0m     \u001b[0;32mreturn\u001b[0m \u001b[0mpos\u001b[0m\u001b[0;34m\u001b[0m\u001b[0m\n\u001b[1;32m      8\u001b[0m \u001b[0;34m\u001b[0m\u001b[0m\n\u001b[0;32m----> 9\u001b[0;31m \u001b[0mindices\u001b[0m \u001b[0;34m=\u001b[0m \u001b[0mpos_deficit\u001b[0m\u001b[0;34m(\u001b[0m\u001b[0mls\u001b[0m\u001b[0;34m,\u001b[0m\u001b[0;34m'Deficit'\u001b[0m\u001b[0;34m,\u001b[0m\u001b[0mdf\u001b[0m\u001b[0;34m)\u001b[0m\u001b[0;34m\u001b[0m\u001b[0m\n\u001b[0m\u001b[1;32m     10\u001b[0m \u001b[0;32mprint\u001b[0m \u001b[0mindices\u001b[0m\u001b[0;34m\u001b[0m\u001b[0m\n",
      "\u001b[0;31mNameError\u001b[0m: name 'ls' is not defined"
     ]
    }
   ],
   "source": [
    "#Returning a list of all the indices with positive deficits because we need positive anomaly\n",
    "def pos_deficit(ls,column,df):\n",
    "    pos = []\n",
    "    for i in ls:\n",
    "        if df[column][i] > 0:\n",
    "            pos.append(i)      \n",
    "    return pos \n",
    "\n",
    "indices = pos_deficit(ls,'Deficit',df)\n",
    "print indices"
   ]
  },
  {
   "cell_type": "code",
   "execution_count": null,
   "metadata": {
    "collapsed": true
   },
   "outputs": [],
   "source": []
  },
  {
   "cell_type": "code",
   "execution_count": null,
   "metadata": {
    "collapsed": false
   },
   "outputs": [],
   "source": []
  },
  {
   "cell_type": "code",
   "execution_count": null,
   "metadata": {
    "collapsed": true
   },
   "outputs": [],
   "source": []
  },
  {
   "cell_type": "code",
   "execution_count": null,
   "metadata": {
    "collapsed": true
   },
   "outputs": [],
   "source": []
  }
 ],
 "metadata": {
  "kernelspec": {
   "display_name": "Python 2",
   "language": "python",
   "name": "python2"
  },
  "language_info": {
   "codemirror_mode": {
    "name": "ipython",
    "version": 2
   },
   "file_extension": ".py",
   "mimetype": "text/x-python",
   "name": "python",
   "nbconvert_exporter": "python",
   "pygments_lexer": "ipython2",
   "version": "2.7.10"
  }
 },
 "nbformat": 4,
 "nbformat_minor": 0
}
